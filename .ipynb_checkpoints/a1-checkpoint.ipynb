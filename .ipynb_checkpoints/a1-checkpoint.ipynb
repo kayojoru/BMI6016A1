{
 "cells": [
  {
   "cell_type": "code",
   "execution_count": 43,
   "id": "151f748a",
   "metadata": {},
   "outputs": [],
   "source": [
    "import pandas as pd"
   ]
  },
  {
   "cell_type": "code",
   "execution_count": 44,
   "id": "0fc101e0",
   "metadata": {},
   "outputs": [],
   "source": [
    "# Load dataset\n",
    "df1 = pd.read_csv('covariates.csv')"
   ]
  },
  {
   "cell_type": "code",
   "execution_count": 45,
   "id": "1e2eb62c",
   "metadata": {},
   "outputs": [],
   "source": [
    "# Group data by sex and calculate mean weight\n",
    "grouped = df1.groupby('e3_sex_None')['hs_c_weight_None'].mean()"
   ]
  },
  {
   "cell_type": "code",
   "execution_count": 46,
   "id": "218b13b6",
   "metadata": {},
   "outputs": [
    {
     "name": "stdout",
     "output_type": "stream",
     "text": [
      "e3_sex_None\n",
      "female    27.936513\n",
      "male      29.026696\n",
      "Name: hs_c_weight_None, dtype: float64\n"
     ]
    }
   ],
   "source": [
    "# Print result\n",
    "print(grouped)"
   ]
  },
  {
   "cell_type": "markdown",
   "id": "ad9f8554",
   "metadata": {},
   "source": [
    "The \"male\" gender has the highest weight with a mean value of 29.026696"
   ]
  },
  {
   "cell_type": "code",
   "execution_count": 47,
   "id": "ebf47d27",
   "metadata": {},
   "outputs": [],
   "source": [
    "# Load remaining datasets\n",
    "df2 = pd.read_csv('phenotype.csv')\n",
    "df3 = pd.read_csv('codebook.csv')\n",
    "df4 = pd.read_csv('exposome.csv')"
   ]
  },
  {
   "cell_type": "code",
   "execution_count": 48,
   "id": "ce842d14",
   "metadata": {},
   "outputs": [
    {
     "name": "stdout",
     "output_type": "stream",
     "text": [
      "(1301, 7)\n"
     ]
    }
   ],
   "source": [
    "#Print shape of the dataset\n",
    "print(df2.shape)"
   ]
  },
  {
   "cell_type": "code",
   "execution_count": 49,
   "id": "aa6b5332",
   "metadata": {},
   "outputs": [
    {
     "name": "stdout",
     "output_type": "stream",
     "text": [
      "Index(['ID', 'e3_bw', 'hs_asthma', 'hs_zbmi_who', 'hs_correct_raven',\n",
      "       'hs_Gen_Tot', 'hs_bmi_c_cat'],\n",
      "      dtype='object')\n"
     ]
    }
   ],
   "source": [
    "#Print column names of the dataset\n",
    "print(df2.columns)"
   ]
  },
  {
   "cell_type": "code",
   "execution_count": 50,
   "id": "8eda59f0",
   "metadata": {},
   "outputs": [
    {
     "name": "stdout",
     "output_type": "stream",
     "text": [
      "ID                    int64\n",
      "e3_bw                 int64\n",
      "hs_asthma             int64\n",
      "hs_zbmi_who         float64\n",
      "hs_correct_raven      int64\n",
      "hs_Gen_Tot          float64\n",
      "hs_bmi_c_cat          int64\n",
      "dtype: object\n"
     ]
    }
   ],
   "source": [
    "#Print the data types of the columns in the dataset\n",
    "print(df2.dtypes)"
   ]
  },
  {
   "cell_type": "code",
   "execution_count": 51,
   "id": "39c05b85",
   "metadata": {},
   "outputs": [
    {
     "name": "stdout",
     "output_type": "stream",
     "text": [
      "   ID  e3_bw  hs_asthma  hs_zbmi_who  hs_correct_raven  hs_Gen_Tot  \\\n",
      "0   1   4100          0         0.30                18        84.0   \n",
      "1   2   4158          0         0.41                25        39.0   \n",
      "2   3   4110          1         3.33                13        40.0   \n",
      "3   4   3270          0        -0.76                28        54.5   \n",
      "4   5   3950          0         0.98                19        18.0   \n",
      "\n",
      "   hs_bmi_c_cat  \n",
      "0             2  \n",
      "1             2  \n",
      "2             4  \n",
      "3             2  \n",
      "4             2  \n"
     ]
    }
   ],
   "source": [
    "#Print first five rows\n",
    "print(df2.head())\n"
   ]
  },
  {
   "cell_type": "code",
   "execution_count": 52,
   "id": "27d627bd",
   "metadata": {},
   "outputs": [
    {
     "name": "stdout",
     "output_type": "stream",
     "text": [
      "        ID  e3_bw  hs_asthma  hs_zbmi_who  hs_correct_raven  hs_Gen_Tot  \\\n",
      "1296  1297   2900          0         1.94                31     34.4375   \n",
      "1297  1298   3420          0        -0.46                34     28.5625   \n",
      "1298  1299   4068          1         1.04                22     13.0000   \n",
      "1299  1300   4000          0        -1.18                32     18.3125   \n",
      "1300  1301   3580          0         0.48                28      0.0000   \n",
      "\n",
      "      hs_bmi_c_cat  \n",
      "1296             3  \n",
      "1297             2  \n",
      "1298             3  \n",
      "1299             2  \n",
      "1300             2  \n"
     ]
    }
   ],
   "source": [
    "#Print last five rows\n",
    "print(df2.tail())"
   ]
  },
  {
   "cell_type": "code",
   "execution_count": 53,
   "id": "516a2e68",
   "metadata": {},
   "outputs": [
    {
     "name": "stdout",
     "output_type": "stream",
     "text": [
      "               ID        e3_bw    hs_asthma  hs_zbmi_who  hs_correct_raven  \\\n",
      "count  1301.00000  1301.000000  1301.000000  1301.000000       1301.000000   \n",
      "mean    651.00000  3389.302075     0.109147     0.403236         26.288240   \n",
      "std     375.71066   509.994539     0.311943     1.189894          6.444849   \n",
      "min       1.00000  1100.000000     0.000000    -3.580000          9.000000   \n",
      "25%     326.00000  3080.000000     0.000000    -0.400000         22.000000   \n",
      "50%     651.00000  3398.000000     0.000000     0.280000         27.000000   \n",
      "75%     976.00000  3720.000000     0.000000     1.130000         32.000000   \n",
      "max    1301.00000  5260.000000     1.000000     4.720000         36.000000   \n",
      "\n",
      "        hs_Gen_Tot  hs_bmi_c_cat  \n",
      "count  1301.000000   1301.000000  \n",
      "mean     24.376722      2.385857  \n",
      "std      19.028232      0.677268  \n",
      "min       0.000000      1.000000  \n",
      "25%      10.000000      2.000000  \n",
      "50%      20.000000      2.000000  \n",
      "75%      33.437500      3.000000  \n",
      "max     133.000000      4.000000  \n"
     ]
    }
   ],
   "source": [
    "# Print summary statistics phenotype\n",
    "print(df2.describe())"
   ]
  },
  {
   "cell_type": "code",
   "execution_count": 54,
   "id": "70d42505",
   "metadata": {},
   "outputs": [
    {
     "name": "stdout",
     "output_type": "stream",
     "text": [
      "(241, 13)\n"
     ]
    }
   ],
   "source": [
    "print(df3.shape)"
   ]
  },
  {
   "cell_type": "code",
   "execution_count": 55,
   "id": "7c015a63",
   "metadata": {},
   "outputs": [
    {
     "name": "stdout",
     "output_type": "stream",
     "text": [
      "Index(['Unnamed: 0', 'variable_name', 'domain', 'family', 'subfamily',\n",
      "       'period', 'location', 'period_postnatal', 'description', 'var_type',\n",
      "       'transformation', 'labels', 'labelsshort'],\n",
      "      dtype='object')\n"
     ]
    }
   ],
   "source": [
    "print(df3.columns)"
   ]
  },
  {
   "cell_type": "code",
   "execution_count": 56,
   "id": "e83ecf6c",
   "metadata": {},
   "outputs": [
    {
     "name": "stdout",
     "output_type": "stream",
     "text": [
      "Unnamed: 0          object\n",
      "variable_name       object\n",
      "domain              object\n",
      "family              object\n",
      "subfamily           object\n",
      "period              object\n",
      "location            object\n",
      "period_postnatal    object\n",
      "description         object\n",
      "var_type            object\n",
      "transformation      object\n",
      "labels              object\n",
      "labelsshort         object\n",
      "dtype: object\n"
     ]
    }
   ],
   "source": [
    "print(df3.dtypes)"
   ]
  },
  {
   "cell_type": "code",
   "execution_count": 57,
   "id": "7fe3c20b",
   "metadata": {},
   "outputs": [
    {
     "name": "stdout",
     "output_type": "stream",
     "text": [
      "               Unnamed: 0           variable_name             domain  \\\n",
      "0    h_abs_ratio_preg_Log    h_abs_ratio_preg_Log  Outdoor exposures   \n",
      "1    h_no2_ratio_preg_Log    h_no2_ratio_preg_Log  Outdoor exposures   \n",
      "2  h_pm10_ratio_preg_None  h_pm10_ratio_preg_None  Outdoor exposures   \n",
      "3  h_pm25_ratio_preg_None  h_pm25_ratio_preg_None  Outdoor exposures   \n",
      "4      hs_no2_dy_hs_h_Log      hs_no2_dy_hs_h_Log  Outdoor exposures   \n",
      "\n",
      "          family     subfamily     period location        period_postnatal  \\\n",
      "0  Air Pollution  PMAbsorbance  Pregnancy     Home                     NaN   \n",
      "1  Air Pollution           NO2  Pregnancy     Home                     NaN   \n",
      "2  Air Pollution          PM10  Pregnancy     Home                     NaN   \n",
      "3  Air Pollution         PM2.5  Pregnancy     Home                     NaN   \n",
      "4  Air Pollution           NO2  Postnatal     Home  Day before examination   \n",
      "\n",
      "                                         description var_type  \\\n",
      "0  abs value (extrapolated back in time using rat...  numeric   \n",
      "1  no2 value (extrapolated back in time using rat...  numeric   \n",
      "2  pm10 value (extrapolated back in time using ra...  numeric   \n",
      "3  pm25 value (extrapolated back in time using ra...  numeric   \n",
      "4  no2 value (extrapolated back in time using rat...  numeric   \n",
      "\n",
      "      transformation    labels labelsshort  \n",
      "0  Natural Logarithm     PMabs       PMabs  \n",
      "1  Natural Logarithm       NO2         NO2  \n",
      "2               None      PM10        PM10  \n",
      "3               None     PM2.5       PM2.5  \n",
      "4  Natural Logarithm  NO2(day)    NO2(day)  \n",
      "           Unnamed: 0     variable_name     domain     family  \\\n",
      "236         hs_asthma         hs_asthma  Phenotype  Phenotype   \n",
      "237       hs_zbmi_who       hs_zbmi_who  Phenotype  Phenotype   \n",
      "238  hs_correct_raven  hs_correct_raven  Phenotype  Phenotype   \n",
      "239        hs_Gen_Tot        hs_Gen_Tot  Phenotype  Phenotype   \n",
      "240      hs_bmi_c_cat      hs_bmi_c_cat  Phenotype  Phenotype   \n",
      "\n",
      "                     subfamily     period location period_postnatal  \\\n",
      "236  Outcome at 6-11 years old  Postnatal      NaN              NaN   \n",
      "237  Outcome at 6-11 years old  Postnatal      NaN              NaN   \n",
      "238  Outcome at 6-11 years old  Postnatal      NaN              NaN   \n",
      "239  Outcome at 6-11 years old  Postnatal      NaN              NaN   \n",
      "240  Outcome at 6-11 years old  Postnatal      NaN              NaN   \n",
      "\n",
      "                                           description var_type  \\\n",
      "236                     Doctor diagnosed asthma (ever)   factor   \n",
      "237  Body mass index z-score at 6-11 years old - WH...  numeric   \n",
      "238  Intelligence quotient at 6-11 years old - Tota...  numeric   \n",
      "239  Neuro behavior - Internalizing and externalizi...  numeric   \n",
      "240  Body mass index categories at 6-11 years old -...   factor   \n",
      "\n",
      "    transformation                   labels labelsshort  \n",
      "236           None                   Asthma      Asthma  \n",
      "237           None  Body mass index z-score        zBMI  \n",
      "238           None    Intelligence quotient          IQ  \n",
      "239           None                 Behavior    Behavior  \n",
      "240           None    Body mass index (cat)     BMI_cat  \n"
     ]
    }
   ],
   "source": [
    "print(df3.head())\n",
    "print(df3.tail())"
   ]
  },
  {
   "cell_type": "code",
   "execution_count": 58,
   "id": "fa6e2e4c",
   "metadata": {},
   "outputs": [
    {
     "name": "stdout",
     "output_type": "stream",
     "text": [
      "                  Unnamed: 0         variable_name     domain     family  \\\n",
      "count                    241                   241        241        241   \n",
      "unique                   241                   241          6         20   \n",
      "top     h_abs_ratio_preg_Log  h_abs_ratio_preg_Log  Chemicals  Lifestyle   \n",
      "freq                       1                     1        106         39   \n",
      "\n",
      "       subfamily     period location        period_postnatal  \\\n",
      "count        241        241       77                      21   \n",
      "unique        81          2        2                       4   \n",
      "top         Diet  Postnatal     Home  Day before examination   \n",
      "freq          29        142       66                       7   \n",
      "\n",
      "                                              description var_type  \\\n",
      "count                                                 241      241   \n",
      "unique                                                240        2   \n",
      "top     Dimethyl thiophosphate (DMTP) in child adjuste...  numeric   \n",
      "freq                                                    2      180   \n",
      "\n",
      "          transformation labels labelsshort  \n",
      "count                241    241         241  \n",
      "unique                 6    178         183  \n",
      "top     Logarithm base 2  DMDTP       MECPP  \n",
      "freq                  94      3           2  \n"
     ]
    }
   ],
   "source": [
    "print(df3.describe())"
   ]
  },
  {
   "cell_type": "code",
   "execution_count": 59,
   "id": "aa12032e",
   "metadata": {},
   "outputs": [
    {
     "name": "stdout",
     "output_type": "stream",
     "text": [
      "ID                  0\n",
      "e3_bw               0\n",
      "hs_asthma           0\n",
      "hs_zbmi_who         0\n",
      "hs_correct_raven    0\n",
      "hs_Gen_Tot          0\n",
      "hs_bmi_c_cat        0\n",
      "dtype: int64\n"
     ]
    }
   ],
   "source": [
    "#Count missing values per column\n",
    "missing_values_count = df2.isnull().sum()\n",
    "print(missing_values_count)"
   ]
  },
  {
   "cell_type": "code",
   "execution_count": 60,
   "id": "8686fda8",
   "metadata": {},
   "outputs": [
    {
     "name": "stdout",
     "output_type": "stream",
     "text": [
      "[3, 10, 11, 12, 15, 16, 21, 25, 27, 30, 34, 39, 41, 43, 52, 54, 63, 67, 70, 75, 76, 77, 78, 79, 80, 81, 83, 84, 85, 87, 88, 95, 110, 112, 120, 121, 127, 140, 141, 142, 143, 144, 147, 150, 155, 159, 160, 170, 172, 174, 181, 183, 192, 193, 199, 200, 204, 206, 209, 213, 214, 225, 227, 229, 233, 247, 257, 259, 262, 266, 268, 270, 279, 284, 285, 292, 295, 297, 298, 299, 301, 302, 303, 304, 306, 309, 312, 315, 323, 324, 325, 328, 333, 336, 339, 340, 344, 345, 346, 351, 352, 359, 361, 362, 364, 366, 367, 379, 381, 385, 386, 388, 392, 397, 404, 407, 409, 410, 421, 424, 431, 433, 436, 437, 438, 441, 442, 443, 444, 447, 448, 452, 453, 458, 459, 461, 466, 469, 475, 481, 484, 490, 494, 497, 501, 502, 510, 512, 522, 523, 526, 530, 536, 540, 547, 550, 551, 552, 553, 554, 559, 562, 565, 574, 575, 577, 582, 584, 598, 599, 608, 609, 612, 615, 616, 617, 618, 620, 622, 623, 629, 631, 637, 638, 641, 645, 647, 648, 663, 664, 666, 670, 671, 680, 684, 686, 688, 690, 691, 702, 704, 707, 710, 712, 714, 717, 718, 719, 720, 721, 732, 735, 737, 740, 746, 747, 751, 756, 758, 759, 765, 766, 769, 784, 785, 790, 797, 798, 799, 800, 806, 809, 810, 815, 819, 822, 823, 829, 837, 840, 845, 846, 847, 848, 850, 852, 853, 855, 857, 861, 865, 868, 869, 870, 872, 875, 877, 880, 881, 886, 892, 893, 904, 906, 907, 908, 911, 914, 918, 920, 922, 924, 931, 936, 939, 941, 950, 957, 962, 965, 967, 969, 977, 984, 985, 987, 990, 991, 992, 993, 994, 998, 999, 1006, 1008, 1010, 1011, 1012, 1014, 1016, 1019, 1020, 1027, 1029, 1030, 1032, 1041, 1043, 1044, 1045, 1047, 1048, 1055, 1056, 1058, 1065, 1066, 1067, 1069, 1071, 1072, 1074, 1075, 1078, 1081, 1085, 1089, 1090, 1092, 1093, 1096, 1099, 1101, 1103, 1106, 1108, 1114, 1116, 1124, 1127, 1128, 1129, 1130, 1131, 1137, 1139, 1140, 1151, 1154, 1156, 1157, 1161, 1166, 1167, 1169, 1175, 1177, 1181, 1182, 1183, 1190, 1191, 1192, 1196, 1201, 1204, 1211, 1212, 1221, 1224, 1225, 1237, 1249, 1250, 1255, 1259, 1275, 1276, 1285, 1290, 1291, 1295, 1297, 1299]\n"
     ]
    }
   ],
   "source": [
    "#Extract all IDs of indivuduals with a BMI classification at age 6-11 of overweight or obese\n",
    "ids = df2[df2[\"hs_bmi_c_cat\"].isin([3, 4])][\"ID\"].tolist()\n",
    "\n",
    "# Print the IDs\n",
    "print(ids)"
   ]
  },
  {
   "cell_type": "code",
   "execution_count": 61,
   "id": "55dce1cb",
   "metadata": {},
   "outputs": [
    {
     "name": "stdout",
     "output_type": "stream",
     "text": [
      "The following IDs occur more than once in the extracted target cohort:  []\n"
     ]
    }
   ],
   "source": [
    "from collections import Counter\n",
    "\n",
    "#Count occurences of each ID in the list\n",
    "id_counts = Counter(ids)\n",
    "\n",
    "#Print the IDs that occur more than once\n",
    "duplicates = [id for id, count in id_counts.items() if count > 1]\n",
    "print(\"The following IDs occur more than once in the extracted target cohort: \", duplicates)"
   ]
  },
  {
   "cell_type": "code",
   "execution_count": 62,
   "id": "da7d944b",
   "metadata": {},
   "outputs": [
    {
     "name": "stdout",
     "output_type": "stream",
     "text": [
      "    ID  h_cohort e3_sex_None  e3_yearbir_None  h_mbmi_None  hs_wgtgain_None  \\\n",
      "2    3         4        male             2008    30.116213             11.0   \n",
      "9   10         1      female             2008    40.333778              9.0   \n",
      "10  11         1      female             2008    32.073063             10.0   \n",
      "11  12         3        male             2006    23.738663             18.0   \n",
      "14  15         4        male             2008    43.027718             12.0   \n",
      "\n",
      "    e3_gac_None  h_age_None  h_edumc_None  h_native_None  h_parity_None  \\\n",
      "2     39.000000   34.232422             3              2              1   \n",
      "9     41.000000   25.000000             1              1              2   \n",
      "10    40.714287   31.000000             3              0              1   \n",
      "11    39.000000   37.598904             3              2              1   \n",
      "14    41.428570   30.674887             2              2              0   \n",
      "\n",
      "    hs_child_age_None  hs_c_height_None  hs_c_weight_None  \n",
      "2            6.110883             1.280              37.5  \n",
      "9            6.447639             1.251              30.3  \n",
      "10           6.436573             1.293              41.6  \n",
      "11           8.637805             1.330              48.0  \n",
      "14           6.458476             1.290              33.0  \n",
      "        ID  h_cohort e3_sex_None  e3_yearbir_None  h_mbmi_None  \\\n",
      "1289  1290         5      female             2005    27.636054   \n",
      "1290  1291         2      female             2004    19.506857   \n",
      "1294  1295         3        male             2006    26.813591   \n",
      "1296  1297         6      female             2008    33.564014   \n",
      "1298  1299         4        male             2008    27.379665   \n",
      "\n",
      "      hs_wgtgain_None  e3_gac_None  h_age_None  h_edumc_None  h_native_None  \\\n",
      "1289             14.0    40.142857   33.000000             3              2   \n",
      "1290             20.0    37.428570   30.600958             1              1   \n",
      "1294             30.0    41.428570   32.208076             2              2   \n",
      "1296             17.0    40.428570   32.150581             2              2   \n",
      "1298             20.0    41.285713   22.031279             3              2   \n",
      "\n",
      "      h_parity_None  hs_child_age_None  hs_c_height_None  hs_c_weight_None  \n",
      "1289              0           8.867785             1.355              28.0  \n",
      "1290              1          10.113621             1.355              35.4  \n",
      "1294              2           8.495665             1.377              41.7  \n",
      "1296              1           6.809149             1.234              29.7  \n",
      "1298              2           6.497034             1.250              26.5  \n"
     ]
    }
   ],
   "source": [
    "#Create a new dataframe with the cohort records\n",
    "cohort_df = df[df[\"ID\"].isin(ids)]\n",
    "\n",
    "print(cohort_df.head())\n",
    "print(cohort_df.tail())"
   ]
  },
  {
   "cell_type": "code",
   "execution_count": 63,
   "id": "a77c2f50",
   "metadata": {},
   "outputs": [
    {
     "name": "stdout",
     "output_type": "stream",
     "text": [
      "There are no duplicate rows in the new dataframe.\n"
     ]
    }
   ],
   "source": [
    "#Check for duplicate rows\n",
    "if cohort_df.duplicated().any():\n",
    "    print(\"There are duplicate rows in the cohort dataframe.\")\n",
    "else:\n",
    "    print(\"There are no duplicate rows in the new dataframe.\")"
   ]
  },
  {
   "cell_type": "code",
   "execution_count": 64,
   "id": "31c18717",
   "metadata": {},
   "outputs": [
    {
     "name": "stdout",
     "output_type": "stream",
     "text": [
      "IDs for the rows that have duplicates except ID:  []\n"
     ]
    }
   ],
   "source": [
    "#Find suplicate rows across all columns except the ID column\n",
    "similarRows = cohort_df[cohort_df.duplicated(subset=cohort_df.columns.difference(['ID']))][\"ID\"].tolist()\n",
    "\n",
    "print(\"IDs for the rows that have duplicates except ID: \", similarRows)"
   ]
  },
  {
   "cell_type": "code",
   "execution_count": 68,
   "id": "1e00a24c",
   "metadata": {},
   "outputs": [],
   "source": [
    "# Intentionally duplicate the first 3 rows of the dataframe\n",
    "cohort_df = pd.concat([cohort_df, cohort_df.iloc[:3]], ignore_index=True)\n",
    "\n"
   ]
  },
  {
   "cell_type": "code",
   "execution_count": 71,
   "id": "d8c75590",
   "metadata": {},
   "outputs": [
    {
     "name": "stdout",
     "output_type": "stream",
     "text": [
      "There are duplicate rows in the cohort dataframe.\n"
     ]
    }
   ],
   "source": [
    "#Check for duplicate rows\n",
    "if cohort_df.duplicated().any():\n",
    "    print(\"There are duplicate rows in the cohort dataframe.\")\n",
    "else:\n",
    "    print(\"There are no duplicate rows in the new dataframe.\")"
   ]
  },
  {
   "cell_type": "code",
   "execution_count": 72,
   "id": "a28cc908",
   "metadata": {},
   "outputs": [
    {
     "name": "stdout",
     "output_type": "stream",
     "text": [
      "IDs for the rows that have duplicates except ID:  [3, 10, 11, 3, 10, 11]\n"
     ]
    }
   ],
   "source": [
    "#Find suplicate rows across all columns except the ID column\n",
    "similarRows = cohort_df[cohort_df.duplicated(subset=cohort_df.columns.difference(['ID']))][\"ID\"].tolist()\n",
    "\n",
    "print(\"IDs for the rows that have duplicates except ID: \", similarRows)"
   ]
  },
  {
   "cell_type": "code",
   "execution_count": 73,
   "id": "298ec0c9",
   "metadata": {},
   "outputs": [],
   "source": [
    "# Reverse the intentional duplication\n",
    "cohort_df = cohort_df.drop_duplicates(subset=cohort_df.columns.difference(['ID']), keep='first')"
   ]
  },
  {
   "cell_type": "code",
   "execution_count": 75,
   "id": "df3648d3",
   "metadata": {},
   "outputs": [
    {
     "name": "stdout",
     "output_type": "stream",
     "text": [
      "There are no duplicate rows in the new dataframe.\n"
     ]
    }
   ],
   "source": [
    "#Check for duplicate rows\n",
    "if cohort_df.duplicated().any():\n",
    "    print(\"There are duplicate rows in the cohort dataframe.\")\n",
    "else:\n",
    "    print(\"There are no duplicate rows in the new dataframe.\")"
   ]
  },
  {
   "cell_type": "code",
   "execution_count": 77,
   "id": "445e9a2b",
   "metadata": {},
   "outputs": [
    {
     "name": "stdout",
     "output_type": "stream",
     "text": [
      "IDs for the rows that have duplicates except ID:  []\n"
     ]
    }
   ],
   "source": [
    "#Find suplicate rows across all columns except the ID column\n",
    "similarRows = cohort_df[cohort_df.duplicated(subset=cohort_df.columns.difference(['ID']))][\"ID\"].tolist()\n",
    "\n",
    "print(\"IDs for the rows that have duplicates except ID: \", similarRows)"
   ]
  }
 ],
 "metadata": {
  "kernelspec": {
   "display_name": "Python 3 (ipykernel)",
   "language": "python",
   "name": "python3"
  },
  "language_info": {
   "codemirror_mode": {
    "name": "ipython",
    "version": 3
   },
   "file_extension": ".py",
   "mimetype": "text/x-python",
   "name": "python",
   "nbconvert_exporter": "python",
   "pygments_lexer": "ipython3",
   "version": "3.9.12"
  }
 },
 "nbformat": 4,
 "nbformat_minor": 5
}
